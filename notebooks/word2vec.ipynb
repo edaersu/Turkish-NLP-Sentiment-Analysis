{
  "nbformat": 4,
  "nbformat_minor": 0,
  "metadata": {
    "colab": {
      "name": "word2vec.ipynb",
      "provenance": [],
      "collapsed_sections": [],
      "toc_visible": true
    },
    "kernelspec": {
      "name": "python3",
      "display_name": "Python 3"
    }
  },
  "cells": [
    {
      "cell_type": "markdown",
      "metadata": {
        "id": "NlxolUG3QbJt"
      },
      "source": [
        "# df to vocab"
      ]
    },
    {
      "cell_type": "code",
      "metadata": {
        "id": "Ei2tBKKkFxUp"
      },
      "source": [
        "import pandas as pd\r\n",
        "df = pd.read_csv('drive/MyDrive/Veri Setleri/CLEAN PART 2/data.csv')"
      ],
      "execution_count": null,
      "outputs": []
    },
    {
      "cell_type": "code",
      "metadata": {
        "id": "wtPl2R1hHzdn"
      },
      "source": [
        "ibb_vocab=[]\r\n",
        "liste=df[\"clean_new\"]"
      ],
      "execution_count": null,
      "outputs": []
    },
    {
      "cell_type": "code",
      "metadata": {
        "id": "HvA-eRfqIYHH"
      },
      "source": [
        "for i in liste:\r\n",
        "  x=i.split(\" \")\r\n",
        "  satir_vocab=[abs]\r\n",
        "  for j in x:\r\n",
        "    satir_vocab.append(j)\r\n",
        "  ibb_vocab.append(satir_vocab)"
      ],
      "execution_count": null,
      "outputs": []
    },
    {
      "cell_type": "code",
      "metadata": {
        "id": "YpgC0huMFr3_"
      },
      "source": [
        "for i in ibb_vocab:\r\n",
        "  for j in i:\r\n",
        "    i.remove(j)\r\n",
        "    break"
      ],
      "execution_count": null,
      "outputs": []
    },
    {
      "cell_type": "code",
      "metadata": {
        "colab": {
          "base_uri": "https://localhost:8080/"
        },
        "id": "HhVvusSwijHq",
        "outputId": "cb4b7d1b-fb0a-4feb-f98e-aebe139e273d"
      },
      "source": [
        "len(ibb_vocab)"
      ],
      "execution_count": null,
      "outputs": [
        {
          "output_type": "execute_result",
          "data": {
            "text/plain": [
              "199932"
            ]
          },
          "metadata": {
            "tags": []
          },
          "execution_count": 13
        }
      ]
    },
    {
      "cell_type": "markdown",
      "metadata": {
        "id": "GjI-lYF0MavI"
      },
      "source": [
        "# Model"
      ]
    },
    {
      "cell_type": "code",
      "metadata": {
        "id": "zGAbmKZbuViX"
      },
      "source": [
        "import gensim\r\n",
        "model = gensim.models.Word2Vec(sentences = ibb_vocab, size = 5, min_count = 5)"
      ],
      "execution_count": null,
      "outputs": []
    },
    {
      "cell_type": "code",
      "metadata": {
        "colab": {
          "base_uri": "https://localhost:8080/"
        },
        "id": "1vmq4Wt-DYgu",
        "outputId": "8b7f6af5-2c54-4b9a-cba7-45248d789ba1"
      },
      "source": [
        "model.wv.most_similar(\"yardım\")"
      ],
      "execution_count": null,
      "outputs": [
        {
          "output_type": "execute_result",
          "data": {
            "text/plain": [
              "[('destek', 0.9957172870635986),\n",
              " ('imkan', 0.9900662899017334),\n",
              " ('için', 0.9808139204978943),\n",
              " ('nakit', 0.980774998664856),\n",
              " ('birey', 0.9797748327255249),\n",
              " ('sonuçlan', 0.979530394077301),\n",
              " ('ziyaret', 0.9714174270629883),\n",
              " ('olur', 0.9700494408607483),\n",
              " ('erzak', 0.9651546478271484),\n",
              " ('faydalanma', 0.9639827013015747)]"
            ]
          },
          "metadata": {
            "tags": []
          },
          "execution_count": 39
        }
      ]
    },
    {
      "cell_type": "code",
      "metadata": {
        "colab": {
          "base_uri": "https://localhost:8080/"
        },
        "id": "FF8VsuwvNv_u",
        "outputId": "d0875ffe-2316-48d2-8aac-0a6d102755a9"
      },
      "source": [
        "vec=model[\"süt\"]+model[\"talep\"]-model[\"teşekkür\"]\r\n",
        "model.most_similar([vec])"
      ],
      "execution_count": null,
      "outputs": [
        {
          "output_type": "stream",
          "text": [
            "/usr/local/lib/python3.6/dist-packages/ipykernel_launcher.py:1: DeprecationWarning: Call to deprecated `__getitem__` (Method will be removed in 4.0.0, use self.wv.__getitem__() instead).\n",
            "  \"\"\"Entry point for launching an IPython kernel.\n",
            "/usr/local/lib/python3.6/dist-packages/ipykernel_launcher.py:2: DeprecationWarning: Call to deprecated `most_similar` (Method will be removed in 4.0.0, use self.wv.most_similar() instead).\n",
            "  \n"
          ],
          "name": "stderr"
        },
        {
          "output_type": "execute_result",
          "data": {
            "text/plain": [
              "[('hane', 0.9949368834495544),\n",
              " ('kira', 0.9935994148254395),\n",
              " ('eş', 0.993046224117279),\n",
              " ('sigorta', 0.9918235540390015),\n",
              " ('ayrı', 0.9914293885231018),\n",
              " ('esim', 0.987719714641571),\n",
              " ('iz', 0.9848030209541321),\n",
              " ('ayır', 0.9816918969154358),\n",
              " ('kirami', 0.9803894758224487),\n",
              " ('sene', 0.9794650673866272)]"
            ]
          },
          "metadata": {
            "tags": []
          },
          "execution_count": 27
        }
      ]
    },
    {
      "cell_type": "code",
      "metadata": {
        "colab": {
          "base_uri": "https://localhost:8080/"
        },
        "id": "GmdRXY5_OdBI",
        "outputId": "5551c92a-32d1-4026-d273-ccac411a205a"
      },
      "source": [
        "model.wv.most_similar_cosmul(positive=['süt','yardım',\"talep\"], negative=['teşekkür'])"
      ],
      "execution_count": null,
      "outputs": [
        {
          "output_type": "execute_result",
          "data": {
            "text/plain": [
              "[('maddi', 0.9735468626022339),\n",
              " ('yüksel', 0.9665149450302124),\n",
              " ('güç', 0.9624683260917664),\n",
              " ('boşanma', 0.9593143463134766),\n",
              " ('ziyaret', 0.9567246437072754),\n",
              " ('inan', 0.9548861384391785),\n",
              " ('inşallah', 0.9539065957069397),\n",
              " ('ihtiyaç', 0.9498844146728516),\n",
              " ('birey', 0.9489951729774475),\n",
              " ('imkan', 0.947887659072876)]"
            ]
          },
          "metadata": {
            "tags": []
          },
          "execution_count": 28
        }
      ]
    },
    {
      "cell_type": "code",
      "metadata": {
        "colab": {
          "base_uri": "https://localhost:8080/"
        },
        "id": "h8WF7GKfPOfF",
        "outputId": "28eba9d1-a49d-47df-cd8b-05610829368c"
      },
      "source": [
        "model.wv.similarity(\"maddi\", 'yardım')"
      ],
      "execution_count": null,
      "outputs": [
        {
          "output_type": "execute_result",
          "data": {
            "text/plain": [
              "0.9459933"
            ]
          },
          "metadata": {
            "tags": []
          },
          "execution_count": 37
        }
      ]
    },
    {
      "cell_type": "code",
      "metadata": {
        "colab": {
          "base_uri": "https://localhost:8080/",
          "height": 89
        },
        "id": "6MZQYVh5PhiH",
        "outputId": "5fa114a6-52a7-4948-bd2e-f5d13f096a21"
      },
      "source": [
        "model.wv.doesnt_match(['maddi', 'yardım', 'süt'])"
      ],
      "execution_count": null,
      "outputs": [
        {
          "output_type": "stream",
          "text": [
            "/usr/local/lib/python3.6/dist-packages/gensim/models/keyedvectors.py:895: FutureWarning: arrays to stack must be passed as a \"sequence\" type such as list or tuple. Support for non-sequence iterables such as generators is deprecated as of NumPy 1.16 and will raise an error in the future.\n",
            "  vectors = vstack(self.word_vec(word, use_norm=True) for word in used_words).astype(REAL)\n"
          ],
          "name": "stderr"
        },
        {
          "output_type": "execute_result",
          "data": {
            "application/vnd.google.colaboratory.intrinsic+json": {
              "type": "string"
            },
            "text/plain": [
              "'maddi'"
            ]
          },
          "metadata": {
            "tags": []
          },
          "execution_count": 38
        }
      ]
    },
    {
      "cell_type": "code",
      "metadata": {
        "id": "C0Lqpd2BiVl6"
      },
      "source": [
        ""
      ],
      "execution_count": null,
      "outputs": []
    },
    {
      "cell_type": "code",
      "metadata": {
        "id": "umSzM3R3iTlR"
      },
      "source": [
        ""
      ],
      "execution_count": null,
      "outputs": []
    }
  ]
}